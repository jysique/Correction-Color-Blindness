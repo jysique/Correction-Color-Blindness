{
 "cells": [
  {
   "cell_type": "code",
   "execution_count": 1,
   "metadata": {
    "collapsed": false
   },
   "outputs": [
   ],
   "source": [
    "## Carga de librerias\n",
    "import cv2 #openCV open computr vision\n",
    "import numpy as np # numeric python\n",
    "from matplotlib import pyplot as plt\n",
    "import math\n",
    "import random\n",
    "import time"
   ]
  },
  {
   "cell_type": "code",
   "execution_count": 2,
   "metadata": {
    "collapsed": false
   },
   "outputs": [
   ],
   "source": [
    "def cargar(direccion):\n",
    "    img = cv2.imread(direccion) #cargamos la imagen de la  direccion dada\n",
    "    img = cv2.cvtColor(img,cv2.COLOR_BGR2RGB)\n",
    "    return img\n",
    "\n",
    "def show(imagen):\n",
    "    plt.figure()\n",
    "    plt.imshow(imagen)\n",
    "    plt.axis('off')\n",
    "    plt.show() #Mostramos el plot\n",
    "    pass"
   ]
  },
  {
   "cell_type": "markdown",
   "metadata": {
    "collapsed": false
   },
   "source": [
    "# Implementacion de correccion de color para personas con daltonismo"
   ]
  },
  {
   "cell_type": "markdown",
   "metadata": {
    "collapsed": false
   },
   "source": [
    "### LMS Daltonization Algorithm\n",
    "#### Su idea es utilizar la información perdida en la simulación de la ceguera al color y usar el espacio de color\n",
    "#### LMS para compensar los colores que faltan en cada grupo / tipo de conos (largo (L), medio (M) y corto (S)) para\n",
    "#### estar predecible para el espectador "
   ]
  },
  {
   "cell_type": "code",
   "execution_count": 3,
   "metadata": {
    "collapsed": false
   },
   "outputs": [
   ],
   "source": [
    "lmsColorSpaceM = np.array([[17.8824, 43.5161, 4.11935],\n",
    "                           [3.45565, 27.1554, 3.86714],\n",
    "                           [0.0299566, 0.184309, 1.46709]])\n"
   ]
  },
  {
   "cell_type": "code",
   "execution_count": 4,
   "metadata": {
    "collapsed": false
   },
   "outputs": [
   ],
   "source": [
    "def LMSColorSpace(image):\n",
    "    img = np.copy(image)\n",
    "    sx,sy = np.size(img,0),np.size(img,1)\n",
    "    for n in range(0,sx):\n",
    "        for m in range(0,sy):\n",
    "            img[n][m]= np.dot(lmsColorSpaceM,img[n][m])\n",
    "    return img\n",
    "\n"
   ]
  },
  {
   "cell_type": "code",
   "execution_count": 5,
   "metadata": {
    "collapsed": false
   },
   "outputs": [
   ],
   "source": [
    "protanopiaM = np.array([[0, 2.02344, -2.52581],\n",
    "                        [0, 1, 0],\n",
    "                        [0, 0, 1]])\n",
    "duteranopiaM = np.array([[1, 0, 0],\n",
    "                         [0.49421, 0, 1.24827],\n",
    "                         [0, 0, 1]])\n",
    "tritanopiaM = np.array([[1, 0, 0],\n",
    "                        [0, 1, 0],\n",
    "                        [-0.395913, 0.801109, 0]])"
   ]
  },
  {
   "cell_type": "code",
   "execution_count": 6,
   "metadata": {
    "collapsed": false
   },
   "outputs": [
   ],
   "source": [
    "def SimulateColorBlindness(image, type):\n",
    "    img = np.copy(image)\n",
    "    sx,sy = np.size(img,0),np.size(img,1)\n",
    "    for n in range(0,sx):\n",
    "        for m in range(0,sy):\n",
    "            if (type == 'p'):\n",
    "                img[n][m]= np.dot(protanopiaM,img[n][m])\n",
    "            elif (type == 'd'):\n",
    "                img[n][m]= np.dot(duteranopiaM,img[n][m])\n",
    "            elif (type == 't'):\n",
    "                img[n][m]= np.dot(tritanopiaM,img[n][m])\n",
    "    return img\n",
    "\n"
   ]
  },
  {
   "cell_type": "code",
   "execution_count": 7,
   "metadata": {
    "collapsed": false
   },
   "outputs": [
   ],
   "source": [
    "rgbM = np.array([[0.089044447, -0.130504409, 0.116721066],\n",
    "                 [0.113614708, -0.0102485335, 0.0540193266],\n",
    "                 [-0.000365296,-0.004121614, 0.693511405]])"
   ]
  },
  {
   "cell_type": "code",
   "execution_count": 8,
   "metadata": {
    "collapsed": false
   },
   "outputs": [
   ],
   "source": [
    "def convertToRGB(image):\n",
    "    img = np.copy(image)\n",
    "    sx,sy = np.size(img,0),np.size(img,1)\n",
    "    for n in range(0,sx):\n",
    "        for m in range(0,sy):\n",
    "            img[n][m]= np.dot(rgbM,img[n][m])\n",
    "    return img\n",
    "\n"
   ]
  },
  {
   "cell_type": "code",
   "execution_count": 9,
   "metadata": {
    "collapsed": false
   },
   "outputs": [
   ],
   "source": [
    "def diff(original,image):\n",
    "    img = np.copy(image)\n",
    "    sx,sy = np.size(img,0),np.size(img,1)\n",
    "    for n in range(0,sx):\n",
    "        for m in range(0,sy):\n",
    "            img[n][m] = original[n][m]-img[n][m]\n",
    "    return img\n",
    "\n"
   ]
  },
  {
   "cell_type": "code",
   "execution_count": 10,
   "metadata": {
    "collapsed": false
   },
   "outputs": [
   ],
   "source": [
    "protanopiaSV = np.array([[0, 0, 0],\n",
    "                         [0.7, 1, 0],\n",
    "                         [0.7, 0, 1]])\n",
    "duteranopiaSV = np.array([[1, 0.7, 0],\n",
    "                         [0, 0, 0],\n",
    "                         [0, 0.7, 1]])\n",
    "tritanopiaSV = np.array([[1, 0, 0.7],\n",
    "                         [0, 1, 0.7],\n",
    "                         [0, 0, 0]])"
   ]
  },
  {
   "cell_type": "code",
   "execution_count": 11,
   "metadata": {
    "collapsed": false
   },
   "outputs": [
   ],
   "source": [
    "def SpectroVisible(image, type):\n",
    "    img = np.copy(image)\n",
    "    sx,sy = np.size(img,0),np.size(img,1)\n",
    "    for n in range(0,sx):\n",
    "        for m in range(0,sy):\n",
    "            if (type == 'p'):\n",
    "                img[n][m]= np.dot(protanopiaSV,img[n][m])\n",
    "            elif (type == 'd'):\n",
    "                img[n][m]= np.dot(duteranopiaSV,img[n][m])\n",
    "            elif (type == 't'):\n",
    "                img[n][m]= np.dot(tritanopiaSV,img[n][m])\n",
    "    return img\n",
    "\n"
   ]
  },
  {
   "cell_type": "code",
   "execution_count": 12,
   "metadata": {
    "collapsed": false
   },
   "outputs": [
   ],
   "source": [
    "def summ(original,image):\n",
    "    img = np.copy(image)\n",
    "    sx,sy = np.size(img,0),np.size(img,1)\n",
    "    for n in range(0,sx):\n",
    "        for m in range(0,sy):\n",
    "            img[n][m] = original[n][m] + img[n][m]\n",
    "    return img\n"
   ]
  },
  {
   "cell_type": "code",
   "execution_count": 13,
   "metadata": {
    "collapsed": false
   },
   "outputs": [
    {
     "ename": "KeyboardInterrupt",
     "evalue": "",
     "output_type": "error",
     "traceback": [
      "\u001b[0;31m---------------------------------------------------------------------------\u001b[0m",
      "\u001b[0;31mKeyboardInterrupt\u001b[0m                         Traceback (most recent call last)",
      "\u001b[0;32m<ipython-input-13-e2efdcaad46d>\u001b[0m in \u001b[0;36m<module>\u001b[0;34m()\u001b[0m\n\u001b[1;32m     28\u001b[0m     \u001b[0mshow\u001b[0m\u001b[0;34m(\u001b[0m\u001b[0mbtestt\u001b[0m\u001b[0;34m)\u001b[0m\u001b[0;34m\u001b[0m\u001b[0;34m\u001b[0m\u001b[0m\n\u001b[1;32m     29\u001b[0m     \u001b[0;32mpass\u001b[0m\u001b[0;34m\u001b[0m\u001b[0;34m\u001b[0m\u001b[0m\n\u001b[0;32m---> 30\u001b[0;31m \u001b[0mtest1\u001b[0m\u001b[0;34m(\u001b[0m\u001b[0;34m)\u001b[0m\u001b[0;34m\u001b[0m\u001b[0;34m\u001b[0m\u001b[0m\n\u001b[0m",
      "\u001b[0;32m<ipython-input-13-e2efdcaad46d>\u001b[0m in \u001b[0;36mtest1\u001b[0;34m()\u001b[0m\n\u001b[1;32m      9\u001b[0m     \u001b[0mbtestp\u001b[0m \u001b[0;34m=\u001b[0m \u001b[0mconvertToRGB\u001b[0m\u001b[0;34m(\u001b[0m\u001b[0mbtestp\u001b[0m\u001b[0;34m)\u001b[0m\u001b[0;34m\u001b[0m\u001b[0;34m\u001b[0m\u001b[0m\n\u001b[1;32m     10\u001b[0m     \u001b[0mbtestd\u001b[0m \u001b[0;34m=\u001b[0m \u001b[0mconvertToRGB\u001b[0m\u001b[0;34m(\u001b[0m\u001b[0mbtestd\u001b[0m\u001b[0;34m)\u001b[0m\u001b[0;34m\u001b[0m\u001b[0;34m\u001b[0m\u001b[0m\n\u001b[0;32m---> 11\u001b[0;31m     \u001b[0mbtestt\u001b[0m\u001b[0;34m=\u001b[0m \u001b[0mconvertToRGB\u001b[0m\u001b[0;34m(\u001b[0m\u001b[0mbtestt\u001b[0m\u001b[0;34m)\u001b[0m\u001b[0;34m\u001b[0m\u001b[0;34m\u001b[0m\u001b[0m\n\u001b[0m\u001b[1;32m     12\u001b[0m \u001b[0;34m\u001b[0m\u001b[0m\n\u001b[1;32m     13\u001b[0m \u001b[0;31m#     btestp = diff(test,btestp)\u001b[0m\u001b[0;34m\u001b[0m\u001b[0;34m\u001b[0m\u001b[0;34m\u001b[0m\u001b[0m\n",
      "\u001b[0;32m<ipython-input-8-5b65533e1325>\u001b[0m in \u001b[0;36mconvertToRGB\u001b[0;34m(image)\u001b[0m\n\u001b[1;32m      4\u001b[0m     \u001b[0;32mfor\u001b[0m \u001b[0mn\u001b[0m \u001b[0;32min\u001b[0m \u001b[0mrange\u001b[0m\u001b[0;34m(\u001b[0m\u001b[0;36m0\u001b[0m\u001b[0;34m,\u001b[0m\u001b[0msx\u001b[0m\u001b[0;34m)\u001b[0m\u001b[0;34m:\u001b[0m\u001b[0;34m\u001b[0m\u001b[0;34m\u001b[0m\u001b[0m\n\u001b[1;32m      5\u001b[0m         \u001b[0;32mfor\u001b[0m \u001b[0mm\u001b[0m \u001b[0;32min\u001b[0m \u001b[0mrange\u001b[0m\u001b[0;34m(\u001b[0m\u001b[0;36m0\u001b[0m\u001b[0;34m,\u001b[0m\u001b[0msy\u001b[0m\u001b[0;34m)\u001b[0m\u001b[0;34m:\u001b[0m\u001b[0;34m\u001b[0m\u001b[0;34m\u001b[0m\u001b[0m\n\u001b[0;32m----> 6\u001b[0;31m             \u001b[0mimg\u001b[0m\u001b[0;34m[\u001b[0m\u001b[0mn\u001b[0m\u001b[0;34m]\u001b[0m\u001b[0;34m[\u001b[0m\u001b[0mm\u001b[0m\u001b[0;34m]\u001b[0m\u001b[0;34m=\u001b[0m \u001b[0mnp\u001b[0m\u001b[0;34m.\u001b[0m\u001b[0mdot\u001b[0m\u001b[0;34m(\u001b[0m\u001b[0mrgbM\u001b[0m\u001b[0;34m,\u001b[0m\u001b[0mimg\u001b[0m\u001b[0;34m[\u001b[0m\u001b[0mn\u001b[0m\u001b[0;34m]\u001b[0m\u001b[0;34m[\u001b[0m\u001b[0mm\u001b[0m\u001b[0;34m]\u001b[0m\u001b[0;34m)\u001b[0m\u001b[0;34m\u001b[0m\u001b[0;34m\u001b[0m\u001b[0m\n\u001b[0m\u001b[1;32m      7\u001b[0m     \u001b[0;32mreturn\u001b[0m \u001b[0mimg\u001b[0m\u001b[0;34m\u001b[0m\u001b[0;34m\u001b[0m\u001b[0m\n",
      "\u001b[0;31mKeyboardInterrupt\u001b[0m: "
     ]
    }
   ],
   "source": [
    "def test1():\n",
    "    test = cargar('Dataset/pdi3.PNG')\n",
    "    \n",
    "    btest = LMSColorSpace(test)\n",
    "    btestp = SimulateColorBlindness(btest,'p')\n",
    "    btestd = SimulateColorBlindness(btest,'d')\n",
    "    btestt = SimulateColorBlindness(btest,'t')\n",
    "    \n",
    "    btestp = convertToRGB(btestp)\n",
    "    btestd = convertToRGB(btestd)\n",
    "    btestt= convertToRGB(btestt)\n",
    "    \n",
    "#     btestp = diff(test,btestp)\n",
    "#     btestd = diff(test,btestd)\n",
    "#     btestt = diff(test,btestt)\n",
    "    \n",
    "#     btestp = SpectroVisible(btestp,'p')\n",
    "#     btestd = SpectroVisible(btestd,'d')\n",
    "#     btestt = SpectroVisible(btestt,'t')\n",
    "    \n",
    "    btestp = summ(test,btestp)\n",
    "    btestd = summ(test,btestd)\n",
    "    btestt = summ(test,btestt)\n",
    "    \n",
    "    show(test)\n",
    "    show(btestp)\n",
    "    show(btestd)\n",
    "    show(btestt)\n",
    "    pass\n",
    "test1()"
   ]
  },
  {
   "cell_type": "code",
   "execution_count": 0,
   "metadata": {
    "collapsed": false
   },
   "outputs": [
   ],
   "source": [
    "def DominationColor(image):\n",
    "    img = np.copy(image)\n",
    "    sx,sy = np.size(img,0),np.size(img,1)\n",
    "    for n in range(0,sx):\n",
    "        for m in range(0,sy):\n",
    "            h,s,l = img[n][m]\n",
    "            if img[n][m] <= np.array([255,0,0]):\n",
    "                h = 0.7*h\n",
    "                s = 0.9*s\n",
    "                l = 1.25*l\n",
    "                img[n][m]=np.array([h,l,s])\n",
    "            else:\n",
    "                s = 1.1*s\n",
    "                l = 0.9*l"
   ]
  },
  {
   "cell_type": "code",
   "execution_count": 21,
   "metadata": {
    "collapsed": false
   },
   "outputs": [
   ],
   "source": [
    "def imageRGBToHSL(image):\n",
    "    img = np.copy(image)\n",
    "    sx,sy = np.size(img,0),np.size(img,1)\n",
    "    for n in range(0,sx):\n",
    "        for m in range(0,sy):\n",
    "            h=l=s=0\n",
    "            R,G,B = img[n][m]/255\n",
    "            minimo = np.amin([R,G,B])\n",
    "            maximo = np.amax([R,G,B])\n",
    "            d = maximo - minimo\n",
    "            #light\n",
    "            l = (maximo+minimo)/2\n",
    "            # excepcion\n",
    "            if d == 0.0:\n",
    "                h = 0\n",
    "                s = 0\n",
    "            #hue\n",
    "            elif maximo == R:\n",
    "                h = 60*((G-B)/d % 6)\n",
    "            elif maximo == G:\n",
    "                h = 60*((B-R)/d)+120\n",
    "            elif maximo == B:\n",
    "                h = 60*((R-G)/d)+240\n",
    "            #saturate\n",
    "            if 0 <l <= 0.5 :\n",
    "                s = (d/(maximo+minimo))\n",
    "            elif l > 0.5 :\n",
    "                s = (d/(2 - (maximo+minimo)))\n",
    "            h = np.around(h,decimals=1)\n",
    "            s = np.around(s,decimals=3)\n",
    "            l = np.around(l,decimals=3)\n",
    "            img[n][m] = np.array([h,s,l])\n",
    "    return img\n"
   ]
  },
  {
   "cell_type": "code",
   "execution_count": 29,
   "metadata": {
    "collapsed": false
   },
   "outputs": [
   ],
   "source": [
    "def imageHSLToRGB(image):\n",
    "    img = np.copy(image)\n",
    "    sx,sy = np.size(img,0),np.size(img,1)\n",
    "    for n in range(0,sx):\n",
    "        for m in range(0,sy):\n",
    "            h,s,l = img[n][m]\n",
    "            R=G=B=0\n",
    "            c = (1-math.fabs(2*l-1))*s\n",
    "            x = c * (1 - math.fabs( (h/60) % 2 -1))\n",
    "            M = l - c/2\n",
    "            r,g,b = [0,0,0]\n",
    "            if 300 < h < 360:\n",
    "                r,g,b = [c,0,x]\n",
    "            R = (r+M)*255\n",
    "            G = (g+M)*255\n",
    "            B = (b+M)*255\n",
    "            R = np.around(R,decimals=1)\n",
    "            G = np.around(G,decimals=1)\n",
    "            B = np.around(B,decimals=1)\n",
    "            img[n][m] = np.array([R,G,B])\n",
    "    return img"
   ]
  },
  {
   "cell_type": "code",
   "execution_count": 30,
   "metadata": {
    "collapsed": false,
    "scrolled": true
   },
   "outputs": [
    {
     "name": "stderr",
     "output_type": "stream",
     "text": [
      "/ext/anaconda5/lib/python3.6/site-packages/ipykernel/__main__.py:28: RuntimeWarning: invalid value encountered in double_scalars\n"
     ]
    },
    {
     "data": {
      "image/png": "[encoded data removed]",
      "text/plain": [
       "<Figure size 432x288 with 1 Axes>"
      ]
     },
     "execution_count": 30,
     "metadata": {
      "image/png": {
       "height": 251,
       "width": 255
      },
      "needs_background": "light"
     },
     "output_type": "execute_result"
    },
    {
     "data": {
      "image/png": "[encoded data removed]",
      "text/plain": [
       "<Figure size 432x288 with 1 Axes>"
      ]
     },
     "execution_count": 30,
     "metadata": {
      "image/png": {
       "height": 251,
       "width": 255
      },
      "needs_background": "light"
     },
     "output_type": "execute_result"
    },
    {
     "data": {
      "image/png": "[encoded data removed]",
      "text/plain": [
       "<Figure size 432x288 with 1 Axes>"
      ]
     },
     "execution_count": 30,
     "metadata": {
      "image/png": {
       "height": 251,
       "width": 255
      },
      "needs_background": "light"
     },
     "output_type": "execute_result"
    }
   ],
   "source": [
    "def testColorBlind():\n",
    "    test = cargar('Dataset/pdi3.PNG')\n",
    "    b = imageRGBToHSL(test)\n",
    "    b2 = imageHSLToRGB (b)\n",
    "    show(test)\n",
    "    show(b)\n",
    "    show(b2)\n",
    "        \n",
    "testColorBlind()\n"
   ]
  }
 ],
 "metadata": {
  "kernelspec": {
   "display_name": "Python 3 (Anaconda 5)",
   "env": {
    "LD_LIBRARY_PATH": "/ext/anaconda5/lib",
    "PYTHONHOME": "/ext/anaconda5/lib/python3.5",
    "PYTHONPATH": "/ext/anaconda5/lib/python3.5:/ext/anaconda5/lib/python3.5/site-packages"
   },
   "language": "python",
   "metadata": {
    "cocalc": {
     "description": "Python/R distribution for data science",
     "priority": 5,
     "url": "https://www.anaconda.com/distribution/"
    }
   },
   "name": "anaconda5"
  },
  "language_info": {
   "codemirror_mode": {
    "name": "ipython",
    "version": 3
   },
   "file_extension": ".py",
   "mimetype": "text/x-python",
   "name": "python",
   "nbconvert_exporter": "python",
   "pygments_lexer": "ipython3",
   "version": "3.6.7"
  }
 },
 "nbformat": 4,
 "nbformat_minor": 0
}