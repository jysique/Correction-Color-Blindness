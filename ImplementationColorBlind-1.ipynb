{
 "cells": [
  {
   "cell_type": "code",
   "execution_count": 1,
   "metadata": {
    "collapsed": false
   },
   "outputs": [
   ],
   "source": [
    "## Carga de librerias\n",
    "import cv2 #openCV open computr vision\n",
    "import numpy as np # numeric python\n",
    "from matplotlib import pyplot as plt\n",
    "import math\n",
    "import random\n",
    "import time"
   ]
  },
  {
   "cell_type": "code",
   "execution_count": 2,
   "metadata": {
    "collapsed": false
   },
   "outputs": [
   ],
   "source": [
    "def cargar(direccion):\n",
    "    img = cv2.imread(direccion) #cargamos la imagen de la  direccion dada\n",
    "    img = cv2.cvtColor(img,cv2.COLOR_BGR2RGB)\n",
    "    return img\n",
    "\n",
    "def show(imagen):\n",
    "    plt.figure()\n",
    "    plt.imshow(imagen)\n",
    "    plt.axis('off')\n",
    "    plt.show() #Mostramos el plot\n",
    "    pass"
   ]
  },
  {
   "cell_type": "markdown",
   "metadata": {
    "collapsed": false
   },
   "source": [
    "# Implementacion de correccion de color para personas con daltonismo"
   ]
  },
  {
   "cell_type": "markdown",
   "metadata": {
    "collapsed": false
   },
   "source": [
    "### LMS Daltonization Algorithm\n",
    "#### Su idea es utilizar la información perdida en la simulación de la ceguera al color y usar el espacio de color\n",
    "#### LMS para compensar los colores que faltan en cada grupo / tipo de conos (largo (L), medio (M) y corto (S)) para\n",
    "#### estar predecible para el espectador "
   ]
  },
  {
   "cell_type": "code",
   "execution_count": 3,
   "metadata": {
    "collapsed": false
   },
   "outputs": [
   ],
   "source": [
    "lmsColorSpaceM = np.array([[17.8824, 43.5161, 4.11935],\n",
    "                           [3.45565, 27.1554, 3.86714],\n",
    "                           [0.0299566, 0.184309, 1.46709]])\n"
   ]
  },
  {
   "cell_type": "code",
   "execution_count": 4,
   "metadata": {
    "collapsed": false
   },
   "outputs": [
   ],
   "source": [
    "protanopiaM = np.array([[0, 2.02344, -2.52581],\n",
    "                        [0, 1, 0],\n",
    "                        [0, 0, 1]])\n",
    "duteranopiaM = np.array([[1, 0, 0],\n",
    "                         [0.49421, 0, 1.24827],\n",
    "                         [0, 0, 1]])\n",
    "tritanopiaM = np.array([[1, 0, 0],\n",
    "                        [0, 1, 0],\n",
    "                        [-0.395913, 0.801109, 0]])"
   ]
  },
  {
   "cell_type": "code",
   "execution_count": 5,
   "metadata": {
    "collapsed": false
   },
   "outputs": [
   ],
   "source": [
    "rgbM = np.array([[0.089044447, -0.130504409, 0.116721066],\n",
    "                 [0.113614708, -0.0102485335, 0.0540193266],\n",
    "                 [-0.000365296,-0.004121614, 0.693511405]])"
   ]
  },
  {
   "cell_type": "code",
   "execution_count": 6,
   "metadata": {
    "collapsed": false
   },
   "outputs": [
   ],
   "source": [
    "protanopiaSV = np.array([[0, 0, 0],\n",
    "                         [0.7, 1, 0],\n",
    "                         [0.7, 0, 1]])\n",
    "duteranopiaSV = np.array([[1, 0.7, 0],\n",
    "                         [0, 0, 0],\n",
    "                         [0, 0.7, 1]])\n",
    "tritanopiaSV = np.array([[1, 0, 0.7],\n",
    "                         [0, 1, 0.7],\n",
    "                         [0, 0, 0]])"
   ]
  },
  {
   "cell_type": "code",
   "execution_count": 22,
   "metadata": {
    "collapsed": false
   },
   "outputs": [
    {
     "ename": "SyntaxError",
     "evalue": "keyword can't be an expression (<ipython-input-22-63d119cdaa19>, line 55)",
     "output_type": "error",
     "traceback": [
      "\u001b[0;36m  File \u001b[0;32m\"<ipython-input-22-63d119cdaa19>\"\u001b[0;36m, line \u001b[0;32m55\u001b[0m\n\u001b[0;31m    print(rgbFD[n][m] = img[n][m]+mapD)\u001b[0m\n\u001b[0m         ^\u001b[0m\n\u001b[0;31mSyntaxError\u001b[0m\u001b[0;31m:\u001b[0m keyword can't be an expression\n"
     ]
    }
   ],
   "source": [
    "def LMSDaltonization(image,t):\n",
    "    img = np.copy(image)\n",
    "    lms = np.copy(image)\n",
    "    sx,sy = np.size(img,0),np.size(img,1)\n",
    "    # Convert RGB image to LMS color space using equation (1)\n",
    "    for n in range(0,sx):\n",
    "        for m in range(0,sy):\n",
    "            lms[n][m]= np.dot(lmsColorSpaceM,img[n][m]) # (1)\n",
    "    #2 Simulate color-blindness using equation (2) for Protanopia, (3) for Duteranopia and (4) for Tritanopia\n",
    "    lmsP = np.copy(image)\n",
    "    lmsD = np.copy(image)\n",
    "    lmsT = np.copy(image)\n",
    "    for n in range(0,sx):\n",
    "        for m in range(0,sy):\n",
    "            if (t == 'p'):\n",
    "                lmsP[n][m]= np.dot(protanopiaM,lms[n][m]) # (2)\n",
    "            elif (t == 'd'):\n",
    "                lmsD[n][m]= np.dot(duteranopiaM,lms[n][m]) # (3)\n",
    "            elif (t == 't'):\n",
    "                lmsT[n][m]= np.dot(tritanopiaM,lms[n][m]) # (4)\n",
    "#     Convert LMS back to  RGB using equation (5), i= {P, D, T}\n",
    "    rgb= np.copy(image)\n",
    "    for n in range(0,sx):\n",
    "        for m in range(0,sy):\n",
    "            if (t == 'p'):\n",
    "                rgb[n][m]= np.dot(rgbM,lmsP[n][m]) #(5)\n",
    "            elif (t == 'd'):\n",
    "                rgb[n][m]= np.dot(rgbM,lmsD[n][m]) #(5)\n",
    "            elif (t == 't'):\n",
    "                rgb[n][m]= np.dot(rgbM,lmsT[n][m]) #(5)\n",
    "# Find Difference between original and simulated images by (6), (7) and (8)\n",
    "    dif = np.copy(image)\n",
    "    for n in range(0,sx):\n",
    "        for m in range(0,sy):\n",
    "            dif[n][m] = img[n][m]-rgb[n][m] # (6), (7) and (8)\n",
    "# Shift colors towards visible spectrum by multiplying by error matrices using (9) for Protanopia, (10) for Duteranopia and (11) for Tritanopia\n",
    "    mapP = np.copy(image)\n",
    "    mapD = np.copy(image)\n",
    "    mapT = np.copy(image)\n",
    "    for n in range(0,sx):\n",
    "        for m in range(0,sy):\n",
    "            if (type == 'p'):\n",
    "                mapP[n][m]= np.dot(protanopiaSV,dif[n][m])  # (9)\n",
    "            elif (type == 'd'):\n",
    "                mapD[n][m]= np.dot(duteranopiaSV,dif[n][m]) # (10)\n",
    "            elif (type == 't'):\n",
    "                mapT[n][m]= np.dot(tritanopiaSV,dif[n][m]) # (11)\n",
    "# Add shifted colors to original image using (12), (13) and (14)\n",
    "    rgbF = np.copy(image)\n",
    "    for n in range(0,sx):\n",
    "        for m in range(0,sy):\n",
    "            if (type == 'p'):\n",
    "                rgbF[n][m] =img[n][m]+mapP\n",
    "                \n",
    "            elif (type == 'd'):\n",
    "                rgbF[n][m] = img[n][m]+mapD\n",
    "            elif (type == 't'):\n",
    "                rgbF[n][m] = img[n][m]+mapT\n",
    "                print(rgbFT[n][m])\n",
    "#     if (type == 'p'):\n",
    "#         return  rgbFP\n",
    "#     elif (type == 'd'):\n",
    "#         return rgbFD\n",
    "#     elif (type == 't'):\n",
    "#         return rgbFT"
   ]
  },
  {
   "cell_type": "code",
   "execution_count": 23,
   "metadata": {
    "collapsed": false
   },
   "outputs": [
    {
     "ename": "NameError",
     "evalue": "name 'rgbFP' is not defined",
     "output_type": "error",
     "traceback": [
      "\u001b[0;31m---------------------------------------------------------------------------\u001b[0m",
      "\u001b[0;31mNameError\u001b[0m                                 Traceback (most recent call last)",
      "\u001b[0;32m<ipython-input-23-89fb79f53869>\u001b[0m in \u001b[0;36m<module>\u001b[0;34m()\u001b[0m\n\u001b[1;32m      8\u001b[0m     \u001b[0;32mpass\u001b[0m\u001b[0;34m\u001b[0m\u001b[0;34m\u001b[0m\u001b[0m\n\u001b[1;32m      9\u001b[0m \u001b[0;34m\u001b[0m\u001b[0m\n\u001b[0;32m---> 10\u001b[0;31m \u001b[0mtest\u001b[0m\u001b[0;34m(\u001b[0m\u001b[0;34m)\u001b[0m\u001b[0;34m\u001b[0m\u001b[0;34m\u001b[0m\u001b[0m\n\u001b[0m",
      "\u001b[0;32m<ipython-input-23-89fb79f53869>\u001b[0m in \u001b[0;36mtest\u001b[0;34m()\u001b[0m\n\u001b[1;32m      2\u001b[0m     \u001b[0mtest\u001b[0m \u001b[0;34m=\u001b[0m \u001b[0mcargar\u001b[0m\u001b[0;34m(\u001b[0m\u001b[0;34m'Dataset/pdi3.PNG'\u001b[0m\u001b[0;34m)\u001b[0m\u001b[0;34m\u001b[0m\u001b[0;34m\u001b[0m\u001b[0m\n\u001b[1;32m      3\u001b[0m \u001b[0;34m\u001b[0m\u001b[0m\n\u001b[0;32m----> 4\u001b[0;31m     \u001b[0mbtest\u001b[0m \u001b[0;34m=\u001b[0m \u001b[0mLMSDaltonization\u001b[0m\u001b[0;34m(\u001b[0m\u001b[0mtest\u001b[0m\u001b[0;34m,\u001b[0m\u001b[0;34m'p'\u001b[0m\u001b[0;34m)\u001b[0m\u001b[0;34m\u001b[0m\u001b[0;34m\u001b[0m\u001b[0m\n\u001b[0m\u001b[1;32m      5\u001b[0m     \u001b[0mshow\u001b[0m\u001b[0;34m(\u001b[0m\u001b[0mtest\u001b[0m\u001b[0;34m)\u001b[0m\u001b[0;34m\u001b[0m\u001b[0;34m\u001b[0m\u001b[0m\n\u001b[1;32m      6\u001b[0m \u001b[0;31m#     show(btest)\u001b[0m\u001b[0;34m\u001b[0m\u001b[0;34m\u001b[0m\u001b[0;34m\u001b[0m\u001b[0m\n",
      "\u001b[0;32m<ipython-input-19-e73c32f1f2fb>\u001b[0m in \u001b[0;36mLMSDaltonization\u001b[0;34m(image, t)\u001b[0m\n\u001b[1;32m     67\u001b[0m     \u001b[0;32mfor\u001b[0m \u001b[0mn\u001b[0m \u001b[0;32min\u001b[0m \u001b[0mrange\u001b[0m\u001b[0;34m(\u001b[0m\u001b[0;36m0\u001b[0m\u001b[0;34m,\u001b[0m\u001b[0msx\u001b[0m\u001b[0;34m)\u001b[0m\u001b[0;34m:\u001b[0m\u001b[0;34m\u001b[0m\u001b[0;34m\u001b[0m\u001b[0m\n\u001b[1;32m     68\u001b[0m         \u001b[0;32mfor\u001b[0m \u001b[0mm\u001b[0m \u001b[0;32min\u001b[0m \u001b[0mrange\u001b[0m\u001b[0;34m(\u001b[0m\u001b[0;36m0\u001b[0m\u001b[0;34m,\u001b[0m\u001b[0msy\u001b[0m\u001b[0;34m)\u001b[0m\u001b[0;34m:\u001b[0m\u001b[0;34m\u001b[0m\u001b[0;34m\u001b[0m\u001b[0m\n\u001b[0;32m---> 69\u001b[0;31m             \u001b[0mprint\u001b[0m \u001b[0;34m(\u001b[0m\u001b[0mrgbFP\u001b[0m\u001b[0;34m[\u001b[0m\u001b[0mn\u001b[0m\u001b[0;34m]\u001b[0m\u001b[0;34m[\u001b[0m\u001b[0mm\u001b[0m\u001b[0;34m]\u001b[0m\u001b[0;34m)\u001b[0m\u001b[0;34m\u001b[0m\u001b[0;34m\u001b[0m\u001b[0m\n\u001b[0m",
      "\u001b[0;31mNameError\u001b[0m: name 'rgbFP' is not defined"
     ]
    }
   ],
   "source": [
    "def test():\n",
    "    test = cargar('Dataset/pdi3.PNG')\n",
    "    \n",
    "    btest = LMSDaltonization(test,'p')\n",
    "    show(test)\n",
    "#     show(btest)\n",
    "\n",
    "    pass\n",
    "\n",
    "test()"
   ]
  },
  {
   "cell_type": "code",
   "execution_count": 0,
   "metadata": {
    "collapsed": false
   },
   "outputs": [
   ],
   "source": [
    "def imageToHSL(image):\n",
    "    img = np.copy(image)\n",
    "    sx,sy = np.size(img,0),np.size(img,1)\n",
    "    for n in range(0,sx):\n",
    "        for m in range(0,sy):\n",
    "            h=l=s=0\n",
    "            R,G,B = img[n][m]/255\n",
    "            minimo = np.amin([R,G,B])\n",
    "            maximo = np.amax([R,G,B])\n",
    "            d = maximo - minimo\n",
    "            #light\n",
    "            l = (maximo+minimo)/2*100\n",
    "            # excepcion\n",
    "            if d == 0.0:\n",
    "                h = 0\n",
    "                s = 0\n",
    "            #hue\n",
    "            elif maximo == R:\n",
    "                h = 60*((G-B))/d\n",
    "            elif maximo == G:\n",
    "                h = 60*((B-R)/d)+120\n",
    "            elif maximo == B:\n",
    "                h = 60*((R-G)/d)+240\n",
    "            #saturate\n",
    "            if d <0 :\n",
    "                s = d/(1- (2*l-1))*100\n",
    "            elif d >0 :\n",
    "                s = d/(1- (2*l-1))*100\n",
    "            img[n][m] = np.array([h,s,l])\n",
    "    return img\n"
   ]
  },
  {
   "cell_type": "code",
   "execution_count": 0,
   "metadata": {
    "collapsed": false,
    "scrolled": true
   },
   "outputs": [
   ],
   "source": [
    "def testColorBlind():\n",
    "    test = cargar('Dataset/pdi1.PNG')\n",
    "    b = imageToHSL(test)\n",
    "    show(test)\n",
    "    show(b)\n",
    "    \n",
    "testColorBlind()"
   ]
  },
  {
   "cell_type": "code",
   "execution_count": 0,
   "metadata": {
    "collapsed": false
   },
   "outputs": [
   ],
   "source": [
    "def DominationColor(image):\n",
    "    img = np.copy(image)\n",
    "    sx,sy = np.size(img,0),np.size(img,1)\n",
    "    for n in range(0,sx):\n",
    "        for m in range(0,sy):\n",
    "            h,s,l = img[n][m]\n",
    "            if img[n][m] <= np.array([255,0,0]):\n",
    "                h = 0.7*h\n",
    "                s = 0.9*s\n",
    "                l = 1.25*l\n",
    "                img[n][m]=np.array([h,l,s])\n",
    "            else:\n",
    "                s = 1.1*s\n",
    "                l = 0.9*l"
   ]
  }
 ],
 "metadata": {
  "kernelspec": {
   "display_name": "Python 3 (Anaconda 5)",
   "env": {
    "LD_LIBRARY_PATH": "/ext/anaconda5/lib",
    "PYTHONHOME": "/ext/anaconda5/lib/python3.5",
    "PYTHONPATH": "/ext/anaconda5/lib/python3.5:/ext/anaconda5/lib/python3.5/site-packages"
   },
   "language": "python",
   "metadata": {
    "cocalc": {
     "description": "Python/R distribution for data science",
     "priority": 5,
     "url": "https://www.anaconda.com/distribution/"
    }
   },
   "name": "anaconda5"
  },
  "language_info": {
   "codemirror_mode": {
    "name": "ipython",
    "version": 3
   },
   "file_extension": ".py",
   "mimetype": "text/x-python",
   "name": "python",
   "nbconvert_exporter": "python",
   "pygments_lexer": "ipython3",
   "version": "3.6.7"
  }
 },
 "nbformat": 4,
 "nbformat_minor": 0
}